{
 "cells": [
  {
   "cell_type": "code",
   "execution_count": 20,
   "id": "37daf3ed-74b4-4192-b4eb-3d5e3ed8a6d0",
   "metadata": {},
   "outputs": [],
   "source": [
    "from keras.preprocessing.image import load_img\n",
    "from keras.preprocessing.image import img_to_array\n",
    "from keras.applications.vgg16 import preprocess_input\n",
    "from keras.applications.vgg16 import decode_predictions\n",
    "from keras.applications.vgg16 import VGG16\n",
    "import pandas as pd\n",
    "import numpy as np\n",
    "from sklearn.model_selection import train_test_split\n",
    "from sklearn.preprocessing import MinMaxScaler\n",
    "from sklearn.model_selection import GridSearchCV\n",
    "from sklearn.neural_network import MLPRegressor\n",
    "from sklearn.metrics import mean_squared_error\n",
    "from sklearn.metrics import confusion_matrix, classification_report\n",
    "from sklearn.metrics import accuracy_score, precision_score, recall_score\n",
    "from tensorflow.keras import layers, models\n",
    "from tensorflow.keras.optimizers import Adam\n",
    "\n",
    "import matplotlib.pyplot as plt"
   ]
  },
  {
   "cell_type": "markdown",
   "id": "fe1a2d1f-6837-4e16-a938-f20d155f6c5f",
   "metadata": {},
   "source": [
    "## Import jeu de train, test, validation"
   ]
  },
  {
   "cell_type": "code",
   "execution_count": 21,
   "id": "c4573b4e-d09a-4697-92cc-c26e47a6b002",
   "metadata": {},
   "outputs": [],
   "source": [
    "import tensorflow as tf\n",
    "from tensorflow.keras.preprocessing.image import ImageDataGenerator\n",
    "from tensorflow.keras.layers import Flatten\n",
    "\n",
    "# Définir les chemins des répertoires contenant vos images d'entraînement, de test et de validation\n",
    "train_dir = 'C:\\\\Users\\\\Utilisateur\\\\Documents\\\\12_non supervise\\\\Alien_Predator\\\\Train'\n",
    "test_dir = 'C:\\\\Users\\\\Utilisateur\\\\Documents\\\\12_non supervise\\\\Alien_Predator\\\\Test'\n",
    "validation_dir = 'C:\\\\Users\\\\Utilisateur\\\\Documents\\\\12_non supervise\\\\Alien_Predator\\\\Validation'\n",
    "\n",
    "\n",
    "# Définir la taille des images d'entrée et d'autres paramètres de prétraitement\n",
    "img_size = (150, 150)\n",
    "batch_size = 494\n"
   ]
  },
  {
   "cell_type": "code",
   "execution_count": 22,
   "id": "4795fc6a-a19e-4bff-b3b5-351f95c0ec77",
   "metadata": {},
   "outputs": [
    {
     "name": "stdout",
     "output_type": "stream",
     "text": [
      "Found 494 images belonging to 2 classes.\n",
      "Found 200 images belonging to 2 classes.\n",
      "Found 200 images belonging to 2 classes.\n"
     ]
    }
   ],
   "source": [
    "from tensorflow.keras.preprocessing.image import ImageDataGenerator\n",
    "from tensorflow.keras.applications.vgg16 import preprocess_input\n",
    "\n",
    "# Créez un générateur d'images avec prétraitement pour l'ensemble d'entraînement (train)\n",
    "train_datagen = ImageDataGenerator(\n",
    "    preprocessing_function=preprocess_input\n",
    ")\n",
    "\n",
    "# Créez un générateur d'images avec prétraitement pour l'ensemble de validation\n",
    "validation_datagen = ImageDataGenerator(\n",
    "    preprocessing_function=preprocess_input\n",
    ")\n",
    "\n",
    "# Créez un générateur d'images avec prétraitement pour l'ensemble de test\n",
    "test_datagen = ImageDataGenerator(\n",
    "    preprocessing_function=preprocess_input\n",
    ")\n",
    "\n",
    "# Utilisez les générateurs pour charger et prétraiter les ensembles de formation (train), de validation et de test\n",
    "train_generator = train_datagen.flow_from_directory(\n",
    "    train_dir,\n",
    "    target_size=(150, 150),\n",
    "    batch_size=495,\n",
    "    class_mode='binary'\n",
    ")\n",
    "\n",
    "validation_generator = validation_datagen.flow_from_directory(\n",
    "    validation_dir,\n",
    "    target_size=(150, 150),\n",
    "    batch_size=200,\n",
    "    class_mode='binary'\n",
    ")\n",
    "\n",
    "test_generator = test_datagen.flow_from_directory(\n",
    "    test_dir,\n",
    "    target_size=(150, 150),\n",
    "    batch_size=200,\n",
    "    class_mode='binary'\n",
    ")\n"
   ]
  },
  {
   "cell_type": "code",
   "execution_count": 23,
   "id": "41afc634-9675-48cb-bf6f-e7a1395d76fa",
   "metadata": {},
   "outputs": [
    {
     "data": {
      "text/plain": [
       "['Alien', 'Predator']"
      ]
     },
     "execution_count": 23,
     "metadata": {},
     "output_type": "execute_result"
    }
   ],
   "source": [
    "class_names = list(train_generator.class_indices.keys())\n",
    "class_names"
   ]
  },
  {
   "cell_type": "code",
   "execution_count": 24,
   "id": "145e90b2-2e98-4974-943a-635b15591e57",
   "metadata": {},
   "outputs": [
    {
     "data": {
      "text/plain": [
       "((494, 150, 150, 3), (494,))"
      ]
     },
     "execution_count": 24,
     "metadata": {},
     "output_type": "execute_result"
    }
   ],
   "source": [
    "# Extraction des données d'entraînement\n",
    "X_train, y_train = next(train_generator)\n",
    "\n",
    "# Extraction des données de test\n",
    "X_test, y_test = next(test_generator)\n",
    "\n",
    "# Extraction des données de validation\n",
    "X_val, y_val = next(validation_generator)\n",
    "X_train.shape, y_train.shape"
   ]
  },
  {
   "cell_type": "markdown",
   "id": "56653776-724e-4669-9488-e34490713822",
   "metadata": {},
   "source": [
    "# Charger le modèle VGG16 pré-entraîné et extraire les caractéristiques des images"
   ]
  },
  {
   "cell_type": "code",
   "execution_count": 25,
   "id": "b7b9223e-b477-423e-99a3-1850ff7ac6c3",
   "metadata": {},
   "outputs": [
    {
     "name": "stdout",
     "output_type": "stream",
     "text": [
      "1/1 [==============================] - 27s 27s/step\n",
      "1/1 [==============================] - 12s 12s/step\n",
      "1/1 [==============================] - 12s 12s/step\n"
     ]
    }
   ],
   "source": [
    "# Charger le modèle VGG16 pré-entraîné\n",
    "base_model = VGG16(weights='imagenet', include_top=False, input_shape=(150, 150, 3))\n",
    "\n",
    "\n",
    "\n",
    "# Extraire les caractéristiques des images\n",
    "train_features = base_model.predict(train_generator, steps=len(train_generator), verbose=1)\n",
    "validation_features = base_model.predict(validation_generator, steps=len(validation_generator), verbose=1)\n",
    "test_features = base_model.predict(test_generator, steps=len(test_generator), verbose=1)\n"
   ]
  },
  {
   "cell_type": "markdown",
   "id": "6c6420ce-c570-4c2e-8625-6599f0e92937",
   "metadata": {},
   "source": [
    "### Aplatir les caractéristiques extraites"
   ]
  },
  {
   "cell_type": "code",
   "execution_count": 26,
   "id": "1a9ed3fe-30e2-4b52-a5f1-19bf4bf53ec5",
   "metadata": {},
   "outputs": [],
   "source": [
    "# Aplatir les caractéristiques extraites\n",
    "train_features_flatten = train_features.reshape(train_features.shape[0], -1)\n",
    "validation_features_flatten = validation_features.reshape(validation_features.shape[0], -1)\n",
    "test_features_flatten = test_features.reshape(test_features.shape[0], -1)"
   ]
  },
  {
   "cell_type": "code",
   "execution_count": 27,
   "id": "1b99c367-613a-48d7-a23a-428d23fc59dd",
   "metadata": {},
   "outputs": [
    {
     "data": {
      "text/plain": [
       "((494, 4, 4, 512), (494, 8192))"
      ]
     },
     "execution_count": 27,
     "metadata": {},
     "output_type": "execute_result"
    }
   ],
   "source": [
    "train_features.shape, train_features_flatten.shape\n"
   ]
  },
  {
   "cell_type": "markdown",
   "id": "e6c699b1-bea0-4ccc-8fa8-38abb10efb54",
   "metadata": {},
   "source": [
    "## Compiler et entrainer le modele MLP avec les caracteristique extrait de VGG16"
   ]
  },
  {
   "cell_type": "code",
   "execution_count": 28,
   "id": "8aa2d3f5-a0c0-4643-8772-d77dc1512e41",
   "metadata": {},
   "outputs": [],
   "source": [
    "from tensorflow import keras\n",
    "from tensorflow.keras import layers\n",
    "\n",
    "mlp_model = keras.Sequential()\n",
    "mlp_model.add(layers.Dense(units=256, activation='relu', input_dim=4 * 4 * 512))\n",
    "mlp_model.add(layers.Dense(units=1, activation='sigmoid'))\n"
   ]
  },
  {
   "cell_type": "code",
   "execution_count": 29,
   "id": "8f511d11-7cb7-42fb-a5f1-7f3da82b1006",
   "metadata": {},
   "outputs": [],
   "source": [
    "# Compiler le modèle MLP\n",
    "mlp_model.compile(optimizer=Adam(learning_rate=0.0001), loss='binary_crossentropy', metrics=['accuracy'])\n"
   ]
  },
  {
   "cell_type": "code",
   "execution_count": 30,
   "id": "91ead542-7178-4182-b7f4-77d9a8782df5",
   "metadata": {},
   "outputs": [
    {
     "name": "stdout",
     "output_type": "stream",
     "text": [
      "Epoch 1/100\n",
      "1/1 [==============================] - 1s 786ms/step - loss: 17.0135 - accuracy: 0.4980 - val_loss: 7.4892 - val_accuracy: 0.3950\n",
      "Epoch 2/100\n",
      "1/1 [==============================] - 0s 78ms/step - loss: 8.0195 - accuracy: 0.4008 - val_loss: 8.7297 - val_accuracy: 0.4450\n",
      "Epoch 3/100\n",
      "1/1 [==============================] - 0s 74ms/step - loss: 7.8896 - accuracy: 0.4474 - val_loss: 7.9639 - val_accuracy: 0.4900\n",
      "Epoch 4/100\n",
      "1/1 [==============================] - 0s 84ms/step - loss: 6.3115 - accuracy: 0.5223 - val_loss: 5.0057 - val_accuracy: 0.5900\n",
      "Epoch 5/100\n",
      "1/1 [==============================] - 0s 74ms/step - loss: 2.9199 - accuracy: 0.6377 - val_loss: 2.6781 - val_accuracy: 0.6550\n",
      "Epoch 6/100\n",
      "1/1 [==============================] - 0s 75ms/step - loss: 1.0187 - accuracy: 0.8097 - val_loss: 2.2204 - val_accuracy: 0.7300\n",
      "Epoch 7/100\n",
      "1/1 [==============================] - 0s 75ms/step - loss: 0.9302 - accuracy: 0.8117 - val_loss: 2.3481 - val_accuracy: 0.7450\n",
      "Epoch 8/100\n",
      "1/1 [==============================] - 0s 73ms/step - loss: 1.0149 - accuracy: 0.8198 - val_loss: 2.3528 - val_accuracy: 0.7700\n",
      "Epoch 9/100\n",
      "1/1 [==============================] - 0s 70ms/step - loss: 0.8886 - accuracy: 0.8462 - val_loss: 2.1298 - val_accuracy: 0.7800\n",
      "Epoch 10/100\n",
      "1/1 [==============================] - 0s 72ms/step - loss: 0.6374 - accuracy: 0.8745 - val_loss: 1.8140 - val_accuracy: 0.8200\n",
      "Epoch 11/100\n",
      "1/1 [==============================] - 0s 74ms/step - loss: 0.3868 - accuracy: 0.9130 - val_loss: 1.5144 - val_accuracy: 0.8350\n",
      "Epoch 12/100\n",
      "1/1 [==============================] - 0s 73ms/step - loss: 0.2187 - accuracy: 0.9474 - val_loss: 1.2877 - val_accuracy: 0.8500\n",
      "Epoch 13/100\n",
      "1/1 [==============================] - 0s 74ms/step - loss: 0.1174 - accuracy: 0.9676 - val_loss: 1.1160 - val_accuracy: 0.8550\n",
      "Epoch 14/100\n",
      "1/1 [==============================] - 0s 74ms/step - loss: 0.0638 - accuracy: 0.9777 - val_loss: 0.9995 - val_accuracy: 0.8500\n",
      "Epoch 15/100\n",
      "1/1 [==============================] - 0s 73ms/step - loss: 0.0469 - accuracy: 0.9879 - val_loss: 0.9273 - val_accuracy: 0.8450\n",
      "Epoch 16/100\n",
      "1/1 [==============================] - 0s 92ms/step - loss: 0.0446 - accuracy: 0.9879 - val_loss: 0.8901 - val_accuracy: 0.8550\n",
      "Epoch 17/100\n",
      "1/1 [==============================] - 0s 73ms/step - loss: 0.0452 - accuracy: 0.9879 - val_loss: 0.8755 - val_accuracy: 0.8600\n",
      "Epoch 18/100\n",
      "1/1 [==============================] - 0s 73ms/step - loss: 0.0435 - accuracy: 0.9858 - val_loss: 0.8706 - val_accuracy: 0.8750\n",
      "Epoch 19/100\n",
      "1/1 [==============================] - 0s 73ms/step - loss: 0.0397 - accuracy: 0.9879 - val_loss: 0.8681 - val_accuracy: 0.8750\n",
      "Epoch 20/100\n",
      "1/1 [==============================] - 0s 73ms/step - loss: 0.0346 - accuracy: 0.9899 - val_loss: 0.8643 - val_accuracy: 0.8750\n",
      "Epoch 21/100\n",
      "1/1 [==============================] - 0s 111ms/step - loss: 0.0284 - accuracy: 0.9919 - val_loss: 0.8581 - val_accuracy: 0.8850\n",
      "Epoch 22/100\n",
      "1/1 [==============================] - 0s 76ms/step - loss: 0.0223 - accuracy: 0.9960 - val_loss: 0.8505 - val_accuracy: 0.8850\n",
      "Epoch 23/100\n",
      "1/1 [==============================] - 0s 74ms/step - loss: 0.0167 - accuracy: 0.9960 - val_loss: 0.8419 - val_accuracy: 0.8850\n",
      "Epoch 24/100\n",
      "1/1 [==============================] - 0s 74ms/step - loss: 0.0114 - accuracy: 0.9960 - val_loss: 0.8321 - val_accuracy: 0.8850\n",
      "Epoch 25/100\n",
      "1/1 [==============================] - 0s 74ms/step - loss: 0.0067 - accuracy: 0.9980 - val_loss: 0.8218 - val_accuracy: 0.8900\n",
      "Epoch 26/100\n",
      "1/1 [==============================] - 0s 75ms/step - loss: 0.0034 - accuracy: 0.9980 - val_loss: 0.8116 - val_accuracy: 0.8900\n",
      "Epoch 27/100\n",
      "1/1 [==============================] - 0s 76ms/step - loss: 0.0017 - accuracy: 1.0000 - val_loss: 0.8021 - val_accuracy: 0.8900\n",
      "Epoch 28/100\n",
      "1/1 [==============================] - 0s 75ms/step - loss: 0.0010 - accuracy: 1.0000 - val_loss: 0.7935 - val_accuracy: 0.8950\n",
      "Epoch 29/100\n",
      "1/1 [==============================] - 0s 71ms/step - loss: 6.8354e-04 - accuracy: 1.0000 - val_loss: 0.7858 - val_accuracy: 0.9000\n",
      "Epoch 30/100\n",
      "1/1 [==============================] - 0s 73ms/step - loss: 4.9515e-04 - accuracy: 1.0000 - val_loss: 0.7789 - val_accuracy: 0.9000\n",
      "Epoch 31/100\n",
      "1/1 [==============================] - 0s 74ms/step - loss: 3.7262e-04 - accuracy: 1.0000 - val_loss: 0.7727 - val_accuracy: 0.9000\n",
      "Epoch 32/100\n",
      "1/1 [==============================] - 0s 74ms/step - loss: 2.8936e-04 - accuracy: 1.0000 - val_loss: 0.7672 - val_accuracy: 0.9100\n",
      "Epoch 33/100\n",
      "1/1 [==============================] - 0s 74ms/step - loss: 2.3136e-04 - accuracy: 1.0000 - val_loss: 0.7623 - val_accuracy: 0.9100\n",
      "Epoch 34/100\n",
      "1/1 [==============================] - 0s 75ms/step - loss: 1.9011e-04 - accuracy: 1.0000 - val_loss: 0.7579 - val_accuracy: 0.9100\n",
      "Epoch 35/100\n",
      "1/1 [==============================] - 0s 87ms/step - loss: 1.6021e-04 - accuracy: 1.0000 - val_loss: 0.7539 - val_accuracy: 0.9100\n",
      "Epoch 36/100\n",
      "1/1 [==============================] - 0s 73ms/step - loss: 1.3793e-04 - accuracy: 1.0000 - val_loss: 0.7503 - val_accuracy: 0.9100\n",
      "Epoch 37/100\n",
      "1/1 [==============================] - 0s 74ms/step - loss: 1.2094e-04 - accuracy: 1.0000 - val_loss: 0.7471 - val_accuracy: 0.9100\n",
      "Epoch 38/100\n",
      "1/1 [==============================] - 0s 94ms/step - loss: 1.0770e-04 - accuracy: 1.0000 - val_loss: 0.7442 - val_accuracy: 0.9100\n",
      "Epoch 39/100\n",
      "1/1 [==============================] - 0s 88ms/step - loss: 9.7168e-05 - accuracy: 1.0000 - val_loss: 0.7415 - val_accuracy: 0.9100\n",
      "Epoch 40/100\n",
      "1/1 [==============================] - 0s 72ms/step - loss: 8.8631e-05 - accuracy: 1.0000 - val_loss: 0.7392 - val_accuracy: 0.9100\n",
      "Epoch 41/100\n",
      "1/1 [==============================] - 0s 73ms/step - loss: 8.1589e-05 - accuracy: 1.0000 - val_loss: 0.7370 - val_accuracy: 0.9100\n",
      "Epoch 42/100\n",
      "1/1 [==============================] - 0s 80ms/step - loss: 7.5689e-05 - accuracy: 1.0000 - val_loss: 0.7350 - val_accuracy: 0.9100\n",
      "Epoch 43/100\n",
      "1/1 [==============================] - 0s 75ms/step - loss: 7.0677e-05 - accuracy: 1.0000 - val_loss: 0.7332 - val_accuracy: 0.9100\n",
      "Epoch 44/100\n",
      "1/1 [==============================] - 0s 71ms/step - loss: 6.6367e-05 - accuracy: 1.0000 - val_loss: 0.7316 - val_accuracy: 0.9100\n",
      "Epoch 45/100\n",
      "1/1 [==============================] - 0s 72ms/step - loss: 6.2622e-05 - accuracy: 1.0000 - val_loss: 0.7301 - val_accuracy: 0.9100\n",
      "Epoch 46/100\n",
      "1/1 [==============================] - 0s 79ms/step - loss: 5.9334e-05 - accuracy: 1.0000 - val_loss: 0.7287 - val_accuracy: 0.9100\n",
      "Epoch 47/100\n",
      "1/1 [==============================] - 0s 74ms/step - loss: 5.6422e-05 - accuracy: 1.0000 - val_loss: 0.7274 - val_accuracy: 0.9100\n",
      "Epoch 48/100\n",
      "1/1 [==============================] - 0s 75ms/step - loss: 5.3824e-05 - accuracy: 1.0000 - val_loss: 0.7263 - val_accuracy: 0.9100\n",
      "Epoch 49/100\n",
      "1/1 [==============================] - 0s 74ms/step - loss: 5.1493e-05 - accuracy: 1.0000 - val_loss: 0.7252 - val_accuracy: 0.9100\n",
      "Epoch 50/100\n",
      "1/1 [==============================] - 0s 73ms/step - loss: 4.9388e-05 - accuracy: 1.0000 - val_loss: 0.7243 - val_accuracy: 0.9100\n",
      "Epoch 51/100\n",
      "1/1 [==============================] - 0s 74ms/step - loss: 4.7476e-05 - accuracy: 1.0000 - val_loss: 0.7234 - val_accuracy: 0.9100\n",
      "Epoch 52/100\n",
      "1/1 [==============================] - 0s 88ms/step - loss: 4.5734e-05 - accuracy: 1.0000 - val_loss: 0.7226 - val_accuracy: 0.9100\n",
      "Epoch 53/100\n",
      "1/1 [==============================] - 0s 69ms/step - loss: 4.4139e-05 - accuracy: 1.0000 - val_loss: 0.7218 - val_accuracy: 0.9100\n",
      "Epoch 54/100\n",
      "1/1 [==============================] - 0s 78ms/step - loss: 4.2672e-05 - accuracy: 1.0000 - val_loss: 0.7211 - val_accuracy: 0.9100\n",
      "Epoch 55/100\n",
      "1/1 [==============================] - 0s 80ms/step - loss: 4.1322e-05 - accuracy: 1.0000 - val_loss: 0.7205 - val_accuracy: 0.9100\n",
      "Epoch 56/100\n",
      "1/1 [==============================] - 0s 94ms/step - loss: 4.0072e-05 - accuracy: 1.0000 - val_loss: 0.7199 - val_accuracy: 0.9100\n",
      "Epoch 57/100\n",
      "1/1 [==============================] - 0s 87ms/step - loss: 3.8914e-05 - accuracy: 1.0000 - val_loss: 0.7194 - val_accuracy: 0.9100\n",
      "Epoch 58/100\n",
      "1/1 [==============================] - 0s 78ms/step - loss: 3.7837e-05 - accuracy: 1.0000 - val_loss: 0.7188 - val_accuracy: 0.9100\n",
      "Epoch 59/100\n",
      "1/1 [==============================] - 0s 81ms/step - loss: 3.6833e-05 - accuracy: 1.0000 - val_loss: 0.7184 - val_accuracy: 0.9100\n",
      "Epoch 60/100\n",
      "1/1 [==============================] - 0s 79ms/step - loss: 3.5894e-05 - accuracy: 1.0000 - val_loss: 0.7179 - val_accuracy: 0.9100\n",
      "Epoch 61/100\n",
      "1/1 [==============================] - 0s 73ms/step - loss: 3.5016e-05 - accuracy: 1.0000 - val_loss: 0.7175 - val_accuracy: 0.9100\n",
      "Epoch 62/100\n",
      "1/1 [==============================] - 0s 101ms/step - loss: 3.4192e-05 - accuracy: 1.0000 - val_loss: 0.7171 - val_accuracy: 0.9100\n",
      "Epoch 63/100\n",
      "1/1 [==============================] - 0s 82ms/step - loss: 3.3417e-05 - accuracy: 1.0000 - val_loss: 0.7168 - val_accuracy: 0.9100\n",
      "Epoch 64/100\n",
      "1/1 [==============================] - 0s 75ms/step - loss: 3.2687e-05 - accuracy: 1.0000 - val_loss: 0.7164 - val_accuracy: 0.9100\n",
      "Epoch 65/100\n",
      "1/1 [==============================] - 0s 74ms/step - loss: 3.1998e-05 - accuracy: 1.0000 - val_loss: 0.7161 - val_accuracy: 0.9150\n",
      "Epoch 66/100\n",
      "1/1 [==============================] - 0s 80ms/step - loss: 3.1347e-05 - accuracy: 1.0000 - val_loss: 0.7158 - val_accuracy: 0.9150\n",
      "Epoch 67/100\n",
      "1/1 [==============================] - 0s 73ms/step - loss: 3.0730e-05 - accuracy: 1.0000 - val_loss: 0.7155 - val_accuracy: 0.9150\n",
      "Epoch 68/100\n",
      "1/1 [==============================] - 0s 72ms/step - loss: 3.0145e-05 - accuracy: 1.0000 - val_loss: 0.7153 - val_accuracy: 0.9150\n",
      "Epoch 69/100\n",
      "1/1 [==============================] - 0s 83ms/step - loss: 2.9589e-05 - accuracy: 1.0000 - val_loss: 0.7150 - val_accuracy: 0.9150\n",
      "Epoch 70/100\n",
      "1/1 [==============================] - 0s 73ms/step - loss: 2.9060e-05 - accuracy: 1.0000 - val_loss: 0.7148 - val_accuracy: 0.9150\n",
      "Epoch 71/100\n",
      "1/1 [==============================] - 0s 75ms/step - loss: 2.8556e-05 - accuracy: 1.0000 - val_loss: 0.7145 - val_accuracy: 0.9150\n",
      "Epoch 72/100\n",
      "1/1 [==============================] - 0s 89ms/step - loss: 2.8075e-05 - accuracy: 1.0000 - val_loss: 0.7143 - val_accuracy: 0.9150\n",
      "Epoch 73/100\n",
      "1/1 [==============================] - 0s 72ms/step - loss: 2.7615e-05 - accuracy: 1.0000 - val_loss: 0.7141 - val_accuracy: 0.9150\n",
      "Epoch 74/100\n",
      "1/1 [==============================] - 0s 76ms/step - loss: 2.7175e-05 - accuracy: 1.0000 - val_loss: 0.7139 - val_accuracy: 0.9150\n",
      "Epoch 75/100\n",
      "1/1 [==============================] - 0s 75ms/step - loss: 2.6753e-05 - accuracy: 1.0000 - val_loss: 0.7137 - val_accuracy: 0.9150\n",
      "Epoch 76/100\n",
      "1/1 [==============================] - 0s 86ms/step - loss: 2.6349e-05 - accuracy: 1.0000 - val_loss: 0.7136 - val_accuracy: 0.9150\n",
      "Epoch 77/100\n",
      "1/1 [==============================] - 0s 73ms/step - loss: 2.5960e-05 - accuracy: 1.0000 - val_loss: 0.7134 - val_accuracy: 0.9150\n",
      "Epoch 78/100\n",
      "1/1 [==============================] - 0s 76ms/step - loss: 2.5586e-05 - accuracy: 1.0000 - val_loss: 0.7132 - val_accuracy: 0.9150\n",
      "Epoch 79/100\n",
      "1/1 [==============================] - 0s 72ms/step - loss: 2.5226e-05 - accuracy: 1.0000 - val_loss: 0.7131 - val_accuracy: 0.9150\n",
      "Epoch 80/100\n",
      "1/1 [==============================] - 0s 75ms/step - loss: 2.4879e-05 - accuracy: 1.0000 - val_loss: 0.7129 - val_accuracy: 0.9150\n",
      "Epoch 81/100\n",
      "1/1 [==============================] - 0s 91ms/step - loss: 2.4544e-05 - accuracy: 1.0000 - val_loss: 0.7128 - val_accuracy: 0.9150\n",
      "Epoch 82/100\n",
      "1/1 [==============================] - 0s 75ms/step - loss: 2.4220e-05 - accuracy: 1.0000 - val_loss: 0.7126 - val_accuracy: 0.9150\n",
      "Epoch 83/100\n",
      "1/1 [==============================] - 0s 94ms/step - loss: 2.3907e-05 - accuracy: 1.0000 - val_loss: 0.7125 - val_accuracy: 0.9150\n",
      "Epoch 84/100\n",
      "1/1 [==============================] - 0s 74ms/step - loss: 2.3604e-05 - accuracy: 1.0000 - val_loss: 0.7123 - val_accuracy: 0.9150\n",
      "Epoch 85/100\n",
      "1/1 [==============================] - 0s 75ms/step - loss: 2.3311e-05 - accuracy: 1.0000 - val_loss: 0.7122 - val_accuracy: 0.9150\n",
      "Epoch 86/100\n",
      "1/1 [==============================] - 0s 78ms/step - loss: 2.3026e-05 - accuracy: 1.0000 - val_loss: 0.7121 - val_accuracy: 0.9150\n",
      "Epoch 87/100\n",
      "1/1 [==============================] - 0s 72ms/step - loss: 2.2750e-05 - accuracy: 1.0000 - val_loss: 0.7120 - val_accuracy: 0.9150\n",
      "Epoch 88/100\n",
      "1/1 [==============================] - 0s 75ms/step - loss: 2.2482e-05 - accuracy: 1.0000 - val_loss: 0.7118 - val_accuracy: 0.9150\n",
      "Epoch 89/100\n",
      "1/1 [==============================] - 0s 85ms/step - loss: 2.2221e-05 - accuracy: 1.0000 - val_loss: 0.7117 - val_accuracy: 0.9150\n",
      "Epoch 90/100\n",
      "1/1 [==============================] - 0s 73ms/step - loss: 2.1967e-05 - accuracy: 1.0000 - val_loss: 0.7116 - val_accuracy: 0.9150\n",
      "Epoch 91/100\n",
      "1/1 [==============================] - 0s 71ms/step - loss: 2.1720e-05 - accuracy: 1.0000 - val_loss: 0.7115 - val_accuracy: 0.9150\n",
      "Epoch 92/100\n",
      "1/1 [==============================] - 0s 75ms/step - loss: 2.1480e-05 - accuracy: 1.0000 - val_loss: 0.7114 - val_accuracy: 0.9150\n",
      "Epoch 93/100\n",
      "1/1 [==============================] - 0s 76ms/step - loss: 2.1246e-05 - accuracy: 1.0000 - val_loss: 0.7112 - val_accuracy: 0.9150\n",
      "Epoch 94/100\n",
      "1/1 [==============================] - 0s 73ms/step - loss: 2.1017e-05 - accuracy: 1.0000 - val_loss: 0.7111 - val_accuracy: 0.9150\n",
      "Epoch 95/100\n",
      "1/1 [==============================] - 0s 74ms/step - loss: 2.0794e-05 - accuracy: 1.0000 - val_loss: 0.7110 - val_accuracy: 0.9150\n",
      "Epoch 96/100\n",
      "1/1 [==============================] - 0s 76ms/step - loss: 2.0577e-05 - accuracy: 1.0000 - val_loss: 0.7109 - val_accuracy: 0.9150\n",
      "Epoch 97/100\n",
      "1/1 [==============================] - 0s 77ms/step - loss: 2.0364e-05 - accuracy: 1.0000 - val_loss: 0.7108 - val_accuracy: 0.9150\n",
      "Epoch 98/100\n",
      "1/1 [==============================] - 0s 73ms/step - loss: 2.0156e-05 - accuracy: 1.0000 - val_loss: 0.7107 - val_accuracy: 0.9150\n",
      "Epoch 99/100\n",
      "1/1 [==============================] - 0s 76ms/step - loss: 1.9953e-05 - accuracy: 1.0000 - val_loss: 0.7106 - val_accuracy: 0.9150\n",
      "Epoch 100/100\n",
      "1/1 [==============================] - 0s 75ms/step - loss: 1.9754e-05 - accuracy: 1.0000 - val_loss: 0.7105 - val_accuracy: 0.9150\n"
     ]
    }
   ],
   "source": [
    "# Entraîner le modèle vgg sur les caractéristiques extraites\n",
    "history = mlp_model.fit(\n",
    "    train_features_flatten,\n",
    "    y_train,\n",
    "    batch_size = 494,\n",
    "    epochs=100,\n",
    "    validation_data=(validation_features_flatten, y_val),\n",
    "    verbose=1\n",
    ")\n",
    "\n"
   ]
  },
  {
   "cell_type": "code",
   "execution_count": 31,
   "id": "0d8d652b-7783-4c49-a994-22fd6dbd8593",
   "metadata": {},
   "outputs": [
    {
     "name": "stdout",
     "output_type": "stream",
     "text": [
      "7/7 [==============================] - 0s 3ms/step - loss: 0.7029 - accuracy: 0.9100\n",
      "Test accuracy: 0.9100000262260437\n"
     ]
    }
   ],
   "source": [
    "# Évaluer le modèle MLP sur les caractéristiques de test\n",
    "test_loss, test_accuracy = mlp_model.evaluate(test_features_flatten, y_test)\n",
    "print(\"Test accuracy:\", test_accuracy)\n"
   ]
  },
  {
   "cell_type": "markdown",
   "id": "b5bd14ea-5f9c-43c9-b6d2-98e9fcd1f7d3",
   "metadata": {},
   "source": [
    "### Visualize training results"
   ]
  },
  {
   "cell_type": "code",
   "execution_count": 32,
   "id": "5402e6e2-c146-4c30-94b9-b9e781cb74d5",
   "metadata": {},
   "outputs": [
    {
     "data": {
      "image/png": "[encoded data removed]",
      "text/plain": [
       "<Figure size 1200x400 with 2 Axes>"
      ]
     },
     "metadata": {},
     "output_type": "display_data"
    }
   ],
   "source": [
    "import matplotlib.pyplot as plt\n",
    "\n",
    "\n",
    "# Tracer les courbes de perte et de précision\n",
    "plt.figure(figsize=(12, 4))\n",
    "\n",
    "# Courbes de perte\n",
    "plt.subplot(1, 2, 1)\n",
    "plt.plot(history.history['loss'], label='Train Loss')\n",
    "plt.plot(history.history['val_loss'], label='Validation Loss')\n",
    "plt.xlabel('Epochs')\n",
    "plt.ylabel('Loss')\n",
    "plt.legend()\n",
    "\n",
    "# Courbes de précision\n",
    "plt.subplot(1, 2, 2)\n",
    "plt.plot(history.history['accuracy'], label='Train Accuracy')\n",
    "plt.plot(history.history['val_accuracy'], label='Validation Accuracy')\n",
    "plt.xlabel('Epochs')\n",
    "plt.ylabel('Accuracy')\n",
    "plt.legend()\n",
    "\n",
    "plt.show()\n"
   ]
  },
  {
   "cell_type": "markdown",
   "id": "0fd7c1c3-f0ba-43e3-8fab-7e7e7d0c9353",
   "metadata": {},
   "source": [
    "### Évaluez le modèle sur l'ensemble de test"
   ]
  },
  {
   "cell_type": "code",
   "execution_count": 33,
   "id": "f01befc4-e53d-4b29-bece-9810f141eaab",
   "metadata": {},
   "outputs": [
    {
     "name": "stdout",
     "output_type": "stream",
     "text": [
      "16/16 [==============================] - 0s 3ms/step - loss: 1.9560e-05 - accuracy: 1.0000\n",
      "Train accuracy: 1.0\n",
      "7/7 [==============================] - 0s 6ms/step - loss: 0.7105 - accuracy: 0.9150\n",
      "Validation accuracy: 0.9150000214576721\n",
      "7/7 [==============================] - 0s 3ms/step - loss: 0.7029 - accuracy: 0.9100\n",
      "Test accuracy: 0.9100000262260437\n"
     ]
    }
   ],
   "source": [
    "# Évaluer le modèle sur l'ensemble d'entraînement\n",
    "train_loss, train_accuracy = mlp_model.evaluate(train_features_flatten, y_train)\n",
    "print(\"Train accuracy:\", train_accuracy)\n",
    "\n",
    "# Évaluer le modèle sur l'ensemble de validation\n",
    "validation_loss, validation_accuracy = mlp_model.evaluate(validation_features_flatten, y_val)\n",
    "print(\"Validation accuracy:\", validation_accuracy)\n",
    "\n",
    "# Évaluer le modèle sur l'ensemble de test\n",
    "test_loss, test_accuracy = mlp_model.evaluate(test_features_flatten, y_test)\n",
    "print(\"Test accuracy:\", test_accuracy)\n"
   ]
  },
  {
   "cell_type": "code",
   "execution_count": 34,
   "id": "68739666-886a-45f3-8481-1a4b66aa5aa0",
   "metadata": {},
   "outputs": [
    {
     "name": "stdout",
     "output_type": "stream",
     "text": [
      "16/16 [==============================] - 0s 3ms/step\n",
      "7/7 [==============================] - 0s 4ms/step\n",
      "7/7 [==============================] - 0s 4ms/step\n"
     ]
    }
   ],
   "source": [
    "# Obtenir les prédictions sur l'ensemble d'entraînement\n",
    "y_train_pred = mlp_model.predict(train_features_flatten)\n",
    "\n",
    "# Obtenir les prédictions sur l'ensemble de validation\n",
    "y_val_pred = mlp_model.predict(validation_features_flatten)\n",
    "\n",
    "# Obtenir les prédictions sur l'ensemble de test\n",
    "y_test_pred = mlp_model.predict(test_features_flatten)\n"
   ]
  },
  {
   "cell_type": "code",
   "execution_count": 35,
   "id": "f053f488-0241-4117-bcdf-a709c895f29a",
   "metadata": {},
   "outputs": [
    {
     "name": "stdout",
     "output_type": "stream",
     "text": [
      "[0, 0, 1, 0, 0, 0, 0, 1, 1, 1]\n",
      "[1, 0, 1, 0, 0, 0, 1, 0, 0, 1]\n",
      "[0, 1, 0, 0, 1, 0, 0, 1, 1, 0]\n"
     ]
    }
   ],
   "source": [
    "# Conversion des probabilités\n",
    "y_pred_train_prob= [1 if prob > 0.5 else 0 for prob in np.ravel(y_train_pred)]\n",
    "print(y_pred_train_prob[:10])\n",
    "\n",
    "y_pred_test_prob= [1 if prob > 0.5 else 0 for prob in np.ravel(y_test_pred)]\n",
    "print(y_pred_test_prob[:10])\n",
    "\n",
    "y_pred_val_prob= [1 if prob > 0.5 else 0 for prob in np.ravel(y_val_pred)]\n",
    "print(y_pred_val_prob[:10])"
   ]
  },
  {
   "cell_type": "code",
   "execution_count": 36,
   "id": "4359f880-2791-47d7-8281-024d1bdd278b",
   "metadata": {},
   "outputs": [
    {
     "name": "stdout",
     "output_type": "stream",
     "text": [
      "Matrice de confusion jeu d'apprentissage \n",
      "[[247   0]\n",
      " [  0 247]]\n",
      "Matrice de confusion jeu de test\n",
      "[[95  5]\n",
      " [13 87]]\n",
      "Matrice de confusion jeu de test\n",
      "[[95  5]\n",
      " [12 88]]\n"
     ]
    }
   ],
   "source": [
    "# Matrice de confusion jeu d'apprentissage\n",
    "print(\"Matrice de confusion jeu d'apprentissage \")\n",
    "print(confusion_matrix(y_train, y_pred_train_prob))\n",
    "\n",
    "# Matrice de confusion jeu de test\n",
    "print(\"Matrice de confusion jeu de test\")\n",
    "print(confusion_matrix(y_test, y_pred_test_prob))\n",
    "\n",
    "# Matrice de confusion jeu de test\n",
    "print(\"Matrice de confusion jeu de test\")\n",
    "print(confusion_matrix(y_val, y_pred_val_prob))"
   ]
  },
  {
   "cell_type": "code",
   "execution_count": 37,
   "id": "47a0ecb6-4323-4192-bfe3-f6e031851755",
   "metadata": {},
   "outputs": [
    {
     "name": "stdout",
     "output_type": "stream",
     "text": [
      "              precision    recall  f1-score   support\n",
      "\n",
      "         0.0       0.88      0.95      0.91       100\n",
      "         1.0       0.95      0.87      0.91       100\n",
      "\n",
      "    accuracy                           0.91       200\n",
      "   macro avg       0.91      0.91      0.91       200\n",
      "weighted avg       0.91      0.91      0.91       200\n",
      "\n"
     ]
    }
   ],
   "source": [
    "print(classification_report(y_test, y_pred_test_prob))\n"
   ]
  }
 ],
 "metadata": {
  "kernelspec": {
   "display_name": "Python 3 (ipykernel)",
   "language": "python",
   "name": "python3"
  },
  "language_info": {
   "codemirror_mode": {
    "name": "ipython",
    "version": 3
   },
   "file_extension": ".py",
   "mimetype": "text/x-python",
   "name": "python",
   "nbconvert_exporter": "python",
   "pygments_lexer": "ipython3",
   "version": "3.10.9"
  }
 },
 "nbformat": 4,
 "nbformat_minor": 5
}
