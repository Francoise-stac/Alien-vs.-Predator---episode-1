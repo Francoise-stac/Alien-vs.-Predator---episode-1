{
 "cells": [
  {
   "cell_type": "code",
   "execution_count": 1,
   "id": "37daf3ed-74b4-4192-b4eb-3d5e3ed8a6d0",
   "metadata": {},
   "outputs": [],
   "source": [
    "from keras.preprocessing.image import load_img\n",
    "from keras.preprocessing.image import img_to_array\n",
    "from keras.applications.vgg16 import preprocess_input\n",
    "from keras.applications.vgg16 import decode_predictions\n",
    "from keras.applications.vgg16 import VGG16\n",
    "import pandas as pd\n",
    "import numpy as np\n",
    "from sklearn.model_selection import train_test_split\n",
    "from sklearn.preprocessing import MinMaxScaler\n",
    "from sklearn.model_selection import GridSearchCV\n",
    "from sklearn.neural_network import MLPRegressor\n",
    "from sklearn.metrics import mean_squared_error\n",
    "from sklearn.metrics import confusion_matrix, classification_report\n",
    "from sklearn.metrics import accuracy_score, precision_score, recall_score\n",
    "from tensorflow.keras import layers, models\n",
    "from tensorflow.keras.optimizers import Adam\n",
    "\n",
    "import matplotlib.pyplot as plt"
   ]
  },
  {
   "cell_type": "markdown",
   "id": "fe1a2d1f-6837-4e16-a938-f20d155f6c5f",
   "metadata": {},
   "source": [
    "## Import jeu de train, test, validation"
   ]
  },
  {
   "cell_type": "code",
   "execution_count": 2,
   "id": "c4573b4e-d09a-4697-92cc-c26e47a6b002",
   "metadata": {},
   "outputs": [],
   "source": [
    "import tensorflow as tf\n",
    "from tensorflow.keras.preprocessing.image import ImageDataGenerator\n",
    "from tensorflow.keras.layers import Flatten\n",
    "\n",
    "# Définir les chemins des répertoires contenant vos images d'entraînement, de test et de validation\n",
    "train_dir = 'C:\\\\Users\\\\Utilisateur\\\\Documents\\\\12_non supervise\\\\Alien_Predator\\\\Train'\n",
    "test_dir = 'C:\\\\Users\\\\Utilisateur\\\\Documents\\\\12_non supervise\\\\Alien_Predator\\\\Test'\n",
    "validation_dir = 'C:\\\\Users\\\\Utilisateur\\\\Documents\\\\12_non supervise\\\\Alien_Predator\\\\Validation'\n",
    "\n",
    "\n",
    "# Définir la taille des images d'entrée et d'autres paramètres de prétraitement\n",
    "img_size = (150, 150)\n",
    "batch_size = 494\n"
   ]
  },
  {
   "cell_type": "code",
   "execution_count": 4,
   "id": "4795fc6a-a19e-4bff-b3b5-351f95c0ec77",
   "metadata": {},
   "outputs": [
    {
     "name": "stdout",
     "output_type": "stream",
     "text": [
      "Found 494 images belonging to 2 classes.\n",
      "Found 200 images belonging to 2 classes.\n",
      "Found 200 images belonging to 2 classes.\n"
     ]
    }
   ],
   "source": [
    "from tensorflow.keras.preprocessing.image import ImageDataGenerator\n",
    "from tensorflow.keras.applications.vgg16 import preprocess_input\n",
    "\n",
    "# Créez un générateur d'images avec prétraitement pour l'ensemble d'entraînement (train)\n",
    "train_datagen = ImageDataGenerator(\n",
    "    preprocessing_function=preprocess_input\n",
    ")\n",
    "\n",
    "# Créez un générateur d'images avec prétraitement pour l'ensemble de validation\n",
    "validation_datagen = ImageDataGenerator(\n",
    "    preprocessing_function=preprocess_input\n",
    ")\n",
    "\n",
    "# Créez un générateur d'images avec prétraitement pour l'ensemble de test\n",
    "test_datagen = ImageDataGenerator(\n",
    "    preprocessing_function=preprocess_input\n",
    ")\n",
    "\n",
    "# Utilisez les générateurs pour charger et prétraiter les ensembles de formation (train), de validation et de test\n",
    "train_generator = train_datagen.flow_from_directory(\n",
    "    train_dir,\n",
    "    target_size=(150, 150),\n",
    "    batch_size=495,\n",
    "    class_mode='binary'\n",
    ")\n",
    "\n",
    "validation_generator = validation_datagen.flow_from_directory(\n",
    "    validation_dir,\n",
    "    target_size=(150, 150),\n",
    "    batch_size=200,\n",
    "    class_mode='binary'\n",
    ")\n",
    "\n",
    "test_generator = test_datagen.flow_from_directory(\n",
    "    test_dir,\n",
    "    target_size=(150, 150),\n",
    "    batch_size=200,\n",
    "    class_mode='binary'\n",
    ")\n"
   ]
  },
  {
   "cell_type": "code",
   "execution_count": 15,
   "id": "41afc634-9675-48cb-bf6f-e7a1395d76fa",
   "metadata": {},
   "outputs": [
    {
     "data": {
      "text/plain": [
       "['Alien', 'Predator']"
      ]
     },
     "execution_count": 15,
     "metadata": {},
     "output_type": "execute_result"
    }
   ],
   "source": [
    "class_names = list(train_generator.class_indices.keys())\n",
    "class_names"
   ]
  },
  {
   "cell_type": "code",
   "execution_count": 5,
   "id": "145e90b2-2e98-4974-943a-635b15591e57",
   "metadata": {},
   "outputs": [
    {
     "data": {
      "text/plain": [
       "((494, 150, 150, 3), (494,))"
      ]
     },
     "execution_count": 5,
     "metadata": {},
     "output_type": "execute_result"
    }
   ],
   "source": [
    "# Extraction des données d'entraînement\n",
    "X_train, y_train = next(train_generator)\n",
    "\n",
    "# Extraction des données de test\n",
    "X_test, y_test = next(test_generator)\n",
    "\n",
    "# Extraction des données de validation\n",
    "X_val, y_val = next(validation_generator)\n",
    "X_train.shape, y_train.shape"
   ]
  },
  {
   "cell_type": "markdown",
   "id": "56653776-724e-4669-9488-e34490713822",
   "metadata": {},
   "source": [
    "# Charger le modèle VGG16 pré-entraîné et extraire les caractéristiques des images"
   ]
  },
  {
   "cell_type": "code",
   "execution_count": 25,
   "id": "b230e50a-1d11-41cb-98e3-20b9bf4e0fc6",
   "metadata": {},
   "outputs": [
    {
     "name": "stdout",
     "output_type": "stream",
     "text": [
      "Downloading data from https://storage.googleapis.com/tensorflow/keras-applications/resnet/resnet50_weights_tf_dim_ordering_tf_kernels_notop.h5\n",
      "94765736/94765736 [==============================] - 4s 0us/step\n",
      "1/1 [==============================] - 14s 14s/step\n",
      "1/1 [==============================] - 5s 5s/step\n",
      "1/1 [==============================] - 5s 5s/step\n"
     ]
    }
   ],
   "source": [
    "from tensorflow.keras.applications import ResNet50\n",
    "from tensorflow.keras.preprocessing import image\n",
    "from tensorflow.keras.applications.resnet50 import preprocess_input, decode_predictions\n",
    "\n",
    "# Charger le modèle ResNet-50 pré-entraîné\n",
    "base_model = ResNet50(weights='imagenet', include_top=False)\n",
    "\n",
    "# Utiliser le modèle pour extraire des caractéristiques\n",
    "train_features = base_model.predict(train_generator)\n",
    "validation_features = base_model.predict(validation_generator)\n",
    "test_features = base_model.predict(test_generator)\n",
    "\n"
   ]
  },
  {
   "cell_type": "markdown",
   "id": "6c6420ce-c570-4c2e-8625-6599f0e92937",
   "metadata": {},
   "source": [
    "### Aplatir les caractéristiques extraites"
   ]
  },
  {
   "cell_type": "code",
   "execution_count": 26,
   "id": "1a9ed3fe-30e2-4b52-a5f1-19bf4bf53ec5",
   "metadata": {},
   "outputs": [],
   "source": [
    "# Assurez-vous d'aplatir les caractéristiques si nécessaire (en fonction du modèle)\n",
    "train_features = train_features.reshape(train_features.shape[0], -1)\n",
    "validation_features = validation_features.reshape(validation_features.shape[0], -1)\n",
    "test_features = test_features.reshape(test_features.shape[0], -1)\n"
   ]
  },
  {
   "cell_type": "code",
   "execution_count": 27,
   "id": "1b99c367-613a-48d7-a23a-428d23fc59dd",
   "metadata": {},
   "outputs": [
    {
     "data": {
      "text/plain": [
       "((494, 51200), (494, 8192))"
      ]
     },
     "execution_count": 27,
     "metadata": {},
     "output_type": "execute_result"
    }
   ],
   "source": [
    "train_features.shape, train_features_flatten.shape\n"
   ]
  },
  {
   "cell_type": "markdown",
   "id": "e6c699b1-bea0-4ccc-8fa8-38abb10efb54",
   "metadata": {},
   "source": [
    "## Creer un perceptron multi-couches pour entrainer le modele "
   ]
  },
  {
   "cell_type": "code",
   "execution_count": 28,
   "id": "52aa684e-308d-402f-bba4-fd4c8638bf39",
   "metadata": {},
   "outputs": [],
   "source": [
    "# Créer un MLP pour la classification binaire\n",
    "mlp_model = models.Sequential()\n",
    "\n",
    "mlp_model.add(layers.Dense(units=256, activation='relu', input_dim=4 * 4 * 512))\n",
    "\n",
    "mlp_model.add(layers.Dense(units=1, activation='sigmoid'))\n"
   ]
  },
  {
   "cell_type": "code",
   "execution_count": 29,
   "id": "8f511d11-7cb7-42fb-a5f1-7f3da82b1006",
   "metadata": {},
   "outputs": [],
   "source": [
    "# Compiler le modèle MLP\n",
    "mlp_model.compile(optimizer=Adam(learning_rate=0.0001), loss='binary_crossentropy', metrics=['accuracy'])\n"
   ]
  },
  {
   "cell_type": "code",
   "execution_count": 30,
   "id": "91ead542-7178-4182-b7f4-77d9a8782df5",
   "metadata": {},
   "outputs": [
    {
     "name": "stdout",
     "output_type": "stream",
     "text": [
      "Epoch 1/100\n",
      "1/1 [==============================] - 1s 773ms/step - loss: 5.3343 - accuracy: 0.5263 - val_loss: 4.9807 - val_accuracy: 0.5800\n",
      "Epoch 2/100\n",
      "1/1 [==============================] - 0s 79ms/step - loss: 4.5111 - accuracy: 0.5870 - val_loss: 2.9873 - val_accuracy: 0.6400\n",
      "Epoch 3/100\n",
      "1/1 [==============================] - 0s 82ms/step - loss: 2.0514 - accuracy: 0.7186 - val_loss: 2.0256 - val_accuracy: 0.7050\n",
      "Epoch 4/100\n",
      "1/1 [==============================] - 0s 75ms/step - loss: 0.9056 - accuracy: 0.8421 - val_loss: 2.1809 - val_accuracy: 0.7350\n",
      "Epoch 5/100\n",
      "1/1 [==============================] - 0s 81ms/step - loss: 0.8292 - accuracy: 0.8543 - val_loss: 2.1126 - val_accuracy: 0.7600\n",
      "Epoch 6/100\n",
      "1/1 [==============================] - 0s 74ms/step - loss: 0.5923 - accuracy: 0.8887 - val_loss: 1.6961 - val_accuracy: 0.7900\n",
      "Epoch 7/100\n",
      "1/1 [==============================] - 0s 79ms/step - loss: 0.3026 - accuracy: 0.9453 - val_loss: 1.3054 - val_accuracy: 0.8250\n",
      "Epoch 8/100\n",
      "1/1 [==============================] - 0s 76ms/step - loss: 0.1304 - accuracy: 0.9676 - val_loss: 1.0445 - val_accuracy: 0.8500\n",
      "Epoch 9/100\n",
      "1/1 [==============================] - 0s 73ms/step - loss: 0.0541 - accuracy: 0.9838 - val_loss: 0.9184 - val_accuracy: 0.8700\n",
      "Epoch 10/100\n",
      "1/1 [==============================] - 0s 88ms/step - loss: 0.0219 - accuracy: 0.9879 - val_loss: 0.8852 - val_accuracy: 0.8800\n",
      "Epoch 11/100\n",
      "1/1 [==============================] - 0s 79ms/step - loss: 0.0118 - accuracy: 0.9919 - val_loss: 0.8923 - val_accuracy: 0.8750\n",
      "Epoch 12/100\n",
      "1/1 [==============================] - 0s 79ms/step - loss: 0.0099 - accuracy: 0.9960 - val_loss: 0.9079 - val_accuracy: 0.8750\n",
      "Epoch 13/100\n",
      "1/1 [==============================] - 0s 100ms/step - loss: 0.0102 - accuracy: 0.9939 - val_loss: 0.9231 - val_accuracy: 0.8750\n",
      "Epoch 14/100\n",
      "1/1 [==============================] - 0s 66ms/step - loss: 0.0107 - accuracy: 0.9939 - val_loss: 0.9353 - val_accuracy: 0.8850\n",
      "Epoch 15/100\n",
      "1/1 [==============================] - 0s 75ms/step - loss: 0.0105 - accuracy: 0.9960 - val_loss: 0.9432 - val_accuracy: 0.8900\n",
      "Epoch 16/100\n",
      "1/1 [==============================] - 0s 73ms/step - loss: 0.0094 - accuracy: 0.9980 - val_loss: 0.9466 - val_accuracy: 0.8950\n",
      "Epoch 17/100\n",
      "1/1 [==============================] - 0s 75ms/step - loss: 0.0078 - accuracy: 0.9980 - val_loss: 0.9461 - val_accuracy: 0.8950\n",
      "Epoch 18/100\n",
      "1/1 [==============================] - 0s 75ms/step - loss: 0.0058 - accuracy: 0.9980 - val_loss: 0.9423 - val_accuracy: 0.8950\n",
      "Epoch 19/100\n",
      "1/1 [==============================] - 0s 68ms/step - loss: 0.0039 - accuracy: 0.9980 - val_loss: 0.9365 - val_accuracy: 0.8950\n",
      "Epoch 20/100\n",
      "1/1 [==============================] - 0s 91ms/step - loss: 0.0024 - accuracy: 1.0000 - val_loss: 0.9296 - val_accuracy: 0.8950\n",
      "Epoch 21/100\n",
      "1/1 [==============================] - 0s 74ms/step - loss: 0.0014 - accuracy: 1.0000 - val_loss: 0.9224 - val_accuracy: 0.8900\n",
      "Epoch 22/100\n",
      "1/1 [==============================] - 0s 75ms/step - loss: 8.7604e-04 - accuracy: 1.0000 - val_loss: 0.9152 - val_accuracy: 0.8900\n",
      "Epoch 23/100\n",
      "1/1 [==============================] - 0s 71ms/step - loss: 5.7900e-04 - accuracy: 1.0000 - val_loss: 0.9081 - val_accuracy: 0.8900\n",
      "Epoch 24/100\n",
      "1/1 [==============================] - 0s 74ms/step - loss: 4.0730e-04 - accuracy: 1.0000 - val_loss: 0.9015 - val_accuracy: 0.8900\n",
      "Epoch 25/100\n",
      "1/1 [==============================] - 0s 75ms/step - loss: 3.0119e-04 - accuracy: 1.0000 - val_loss: 0.8952 - val_accuracy: 0.8900\n",
      "Epoch 26/100\n",
      "1/1 [==============================] - 0s 74ms/step - loss: 2.3199e-04 - accuracy: 1.0000 - val_loss: 0.8892 - val_accuracy: 0.8900\n",
      "Epoch 27/100\n",
      "1/1 [==============================] - 0s 71ms/step - loss: 1.8469e-04 - accuracy: 1.0000 - val_loss: 0.8838 - val_accuracy: 0.8900\n",
      "Epoch 28/100\n",
      "1/1 [==============================] - 0s 82ms/step - loss: 1.5123e-04 - accuracy: 1.0000 - val_loss: 0.8787 - val_accuracy: 0.8900\n",
      "Epoch 29/100\n",
      "1/1 [==============================] - 0s 77ms/step - loss: 1.2683e-04 - accuracy: 1.0000 - val_loss: 0.8739 - val_accuracy: 0.8900\n",
      "Epoch 30/100\n",
      "1/1 [==============================] - 0s 72ms/step - loss: 1.0859e-04 - accuracy: 1.0000 - val_loss: 0.8695 - val_accuracy: 0.8900\n",
      "Epoch 31/100\n",
      "1/1 [==============================] - 0s 94ms/step - loss: 9.4666e-05 - accuracy: 1.0000 - val_loss: 0.8655 - val_accuracy: 0.8900\n",
      "Epoch 32/100\n",
      "1/1 [==============================] - 0s 84ms/step - loss: 8.3835e-05 - accuracy: 1.0000 - val_loss: 0.8617 - val_accuracy: 0.8900\n",
      "Epoch 33/100\n",
      "1/1 [==============================] - 0s 99ms/step - loss: 7.5267e-05 - accuracy: 1.0000 - val_loss: 0.8582 - val_accuracy: 0.8900\n",
      "Epoch 34/100\n",
      "1/1 [==============================] - 0s 85ms/step - loss: 6.8376e-05 - accuracy: 1.0000 - val_loss: 0.8550 - val_accuracy: 0.8900\n",
      "Epoch 35/100\n",
      "1/1 [==============================] - 0s 74ms/step - loss: 6.2767e-05 - accuracy: 1.0000 - val_loss: 0.8521 - val_accuracy: 0.8900\n",
      "Epoch 36/100\n",
      "1/1 [==============================] - 0s 74ms/step - loss: 5.8139e-05 - accuracy: 1.0000 - val_loss: 0.8493 - val_accuracy: 0.8900\n",
      "Epoch 37/100\n",
      "1/1 [==============================] - 0s 76ms/step - loss: 5.4277e-05 - accuracy: 1.0000 - val_loss: 0.8468 - val_accuracy: 0.8900\n",
      "Epoch 38/100\n",
      "1/1 [==============================] - 0s 78ms/step - loss: 5.1015e-05 - accuracy: 1.0000 - val_loss: 0.8444 - val_accuracy: 0.8900\n",
      "Epoch 39/100\n",
      "1/1 [==============================] - 0s 77ms/step - loss: 4.8231e-05 - accuracy: 1.0000 - val_loss: 0.8423 - val_accuracy: 0.8900\n",
      "Epoch 40/100\n",
      "1/1 [==============================] - 0s 76ms/step - loss: 4.5832e-05 - accuracy: 1.0000 - val_loss: 0.8402 - val_accuracy: 0.8900\n",
      "Epoch 41/100\n",
      "1/1 [==============================] - 0s 102ms/step - loss: 4.3747e-05 - accuracy: 1.0000 - val_loss: 0.8383 - val_accuracy: 0.8900\n",
      "Epoch 42/100\n",
      "1/1 [==============================] - 0s 62ms/step - loss: 4.1919e-05 - accuracy: 1.0000 - val_loss: 0.8366 - val_accuracy: 0.8900\n",
      "Epoch 43/100\n",
      "1/1 [==============================] - 0s 91ms/step - loss: 4.0302e-05 - accuracy: 1.0000 - val_loss: 0.8350 - val_accuracy: 0.8900\n",
      "Epoch 44/100\n",
      "1/1 [==============================] - 0s 73ms/step - loss: 3.8863e-05 - accuracy: 1.0000 - val_loss: 0.8335 - val_accuracy: 0.8900\n",
      "Epoch 45/100\n",
      "1/1 [==============================] - 0s 100ms/step - loss: 3.7573e-05 - accuracy: 1.0000 - val_loss: 0.8321 - val_accuracy: 0.8900\n",
      "Epoch 46/100\n",
      "1/1 [==============================] - 0s 76ms/step - loss: 3.6409e-05 - accuracy: 1.0000 - val_loss: 0.8307 - val_accuracy: 0.8900\n",
      "Epoch 47/100\n",
      "1/1 [==============================] - 0s 76ms/step - loss: 3.5354e-05 - accuracy: 1.0000 - val_loss: 0.8295 - val_accuracy: 0.8900\n",
      "Epoch 48/100\n",
      "1/1 [==============================] - 0s 77ms/step - loss: 3.4391e-05 - accuracy: 1.0000 - val_loss: 0.8284 - val_accuracy: 0.8900\n",
      "Epoch 49/100\n",
      "1/1 [==============================] - 0s 84ms/step - loss: 3.3508e-05 - accuracy: 1.0000 - val_loss: 0.8274 - val_accuracy: 0.8900\n",
      "Epoch 50/100\n",
      "1/1 [==============================] - 0s 83ms/step - loss: 3.2695e-05 - accuracy: 1.0000 - val_loss: 0.8264 - val_accuracy: 0.8900\n",
      "Epoch 51/100\n",
      "1/1 [==============================] - 0s 82ms/step - loss: 3.1944e-05 - accuracy: 1.0000 - val_loss: 0.8254 - val_accuracy: 0.8900\n",
      "Epoch 52/100\n",
      "1/1 [==============================] - 0s 67ms/step - loss: 3.1247e-05 - accuracy: 1.0000 - val_loss: 0.8246 - val_accuracy: 0.8900\n",
      "Epoch 53/100\n",
      "1/1 [==============================] - 0s 114ms/step - loss: 3.0598e-05 - accuracy: 1.0000 - val_loss: 0.8238 - val_accuracy: 0.8900\n",
      "Epoch 54/100\n",
      "1/1 [==============================] - 0s 67ms/step - loss: 2.9992e-05 - accuracy: 1.0000 - val_loss: 0.8230 - val_accuracy: 0.8900\n",
      "Epoch 55/100\n",
      "1/1 [==============================] - 0s 118ms/step - loss: 2.9424e-05 - accuracy: 1.0000 - val_loss: 0.8223 - val_accuracy: 0.8900\n",
      "Epoch 56/100\n",
      "1/1 [==============================] - 0s 70ms/step - loss: 2.8891e-05 - accuracy: 1.0000 - val_loss: 0.8216 - val_accuracy: 0.8900\n",
      "Epoch 57/100\n",
      "1/1 [==============================] - 0s 74ms/step - loss: 2.8390e-05 - accuracy: 1.0000 - val_loss: 0.8210 - val_accuracy: 0.8900\n",
      "Epoch 58/100\n",
      "1/1 [==============================] - 0s 91ms/step - loss: 2.7916e-05 - accuracy: 1.0000 - val_loss: 0.8204 - val_accuracy: 0.8900\n",
      "Epoch 59/100\n",
      "1/1 [==============================] - 0s 75ms/step - loss: 2.7469e-05 - accuracy: 1.0000 - val_loss: 0.8198 - val_accuracy: 0.8900\n",
      "Epoch 60/100\n",
      "1/1 [==============================] - 0s 74ms/step - loss: 2.7044e-05 - accuracy: 1.0000 - val_loss: 0.8192 - val_accuracy: 0.8900\n",
      "Epoch 61/100\n",
      "1/1 [==============================] - 0s 78ms/step - loss: 2.6641e-05 - accuracy: 1.0000 - val_loss: 0.8187 - val_accuracy: 0.8900\n",
      "Epoch 62/100\n",
      "1/1 [==============================] - 0s 72ms/step - loss: 2.6258e-05 - accuracy: 1.0000 - val_loss: 0.8182 - val_accuracy: 0.8900\n",
      "Epoch 63/100\n",
      "1/1 [==============================] - 0s 75ms/step - loss: 2.5893e-05 - accuracy: 1.0000 - val_loss: 0.8178 - val_accuracy: 0.8900\n",
      "Epoch 64/100\n",
      "1/1 [==============================] - 0s 71ms/step - loss: 2.5544e-05 - accuracy: 1.0000 - val_loss: 0.8173 - val_accuracy: 0.8900\n",
      "Epoch 65/100\n",
      "1/1 [==============================] - 0s 75ms/step - loss: 2.5211e-05 - accuracy: 1.0000 - val_loss: 0.8169 - val_accuracy: 0.8900\n",
      "Epoch 66/100\n",
      "1/1 [==============================] - 0s 79ms/step - loss: 2.4893e-05 - accuracy: 1.0000 - val_loss: 0.8165 - val_accuracy: 0.8900\n",
      "Epoch 67/100\n",
      "1/1 [==============================] - 0s 75ms/step - loss: 2.4587e-05 - accuracy: 1.0000 - val_loss: 0.8161 - val_accuracy: 0.8900\n",
      "Epoch 68/100\n",
      "1/1 [==============================] - 0s 76ms/step - loss: 2.4294e-05 - accuracy: 1.0000 - val_loss: 0.8157 - val_accuracy: 0.8900\n",
      "Epoch 69/100\n",
      "1/1 [==============================] - 0s 72ms/step - loss: 2.4013e-05 - accuracy: 1.0000 - val_loss: 0.8153 - val_accuracy: 0.8900\n",
      "Epoch 70/100\n",
      "1/1 [==============================] - 0s 75ms/step - loss: 2.3742e-05 - accuracy: 1.0000 - val_loss: 0.8149 - val_accuracy: 0.8900\n",
      "Epoch 71/100\n",
      "1/1 [==============================] - 0s 71ms/step - loss: 2.3481e-05 - accuracy: 1.0000 - val_loss: 0.8146 - val_accuracy: 0.8900\n",
      "Epoch 72/100\n",
      "1/1 [==============================] - 0s 76ms/step - loss: 2.3230e-05 - accuracy: 1.0000 - val_loss: 0.8143 - val_accuracy: 0.8900\n",
      "Epoch 73/100\n",
      "1/1 [==============================] - 0s 70ms/step - loss: 2.2987e-05 - accuracy: 1.0000 - val_loss: 0.8139 - val_accuracy: 0.8900\n",
      "Epoch 74/100\n",
      "1/1 [==============================] - 0s 75ms/step - loss: 2.2752e-05 - accuracy: 1.0000 - val_loss: 0.8136 - val_accuracy: 0.8900\n",
      "Epoch 75/100\n",
      "1/1 [==============================] - 0s 72ms/step - loss: 2.2526e-05 - accuracy: 1.0000 - val_loss: 0.8133 - val_accuracy: 0.8900\n",
      "Epoch 76/100\n",
      "1/1 [==============================] - 0s 74ms/step - loss: 2.2306e-05 - accuracy: 1.0000 - val_loss: 0.8130 - val_accuracy: 0.8900\n",
      "Epoch 77/100\n",
      "1/1 [==============================] - 0s 70ms/step - loss: 2.2093e-05 - accuracy: 1.0000 - val_loss: 0.8127 - val_accuracy: 0.8900\n",
      "Epoch 78/100\n",
      "1/1 [==============================] - 0s 78ms/step - loss: 2.1886e-05 - accuracy: 1.0000 - val_loss: 0.8124 - val_accuracy: 0.8900\n",
      "Epoch 79/100\n",
      "1/1 [==============================] - 0s 89ms/step - loss: 2.1686e-05 - accuracy: 1.0000 - val_loss: 0.8121 - val_accuracy: 0.8900\n",
      "Epoch 80/100\n",
      "1/1 [==============================] - 0s 77ms/step - loss: 2.1491e-05 - accuracy: 1.0000 - val_loss: 0.8119 - val_accuracy: 0.8900\n",
      "Epoch 81/100\n",
      "1/1 [==============================] - 0s 75ms/step - loss: 2.1301e-05 - accuracy: 1.0000 - val_loss: 0.8116 - val_accuracy: 0.8900\n",
      "Epoch 82/100\n",
      "1/1 [==============================] - 0s 89ms/step - loss: 2.1117e-05 - accuracy: 1.0000 - val_loss: 0.8113 - val_accuracy: 0.8900\n",
      "Epoch 83/100\n",
      "1/1 [==============================] - 0s 66ms/step - loss: 2.0937e-05 - accuracy: 1.0000 - val_loss: 0.8111 - val_accuracy: 0.8900\n",
      "Epoch 84/100\n",
      "1/1 [==============================] - 0s 85ms/step - loss: 2.0762e-05 - accuracy: 1.0000 - val_loss: 0.8108 - val_accuracy: 0.8900\n",
      "Epoch 85/100\n",
      "1/1 [==============================] - 0s 82ms/step - loss: 2.0591e-05 - accuracy: 1.0000 - val_loss: 0.8105 - val_accuracy: 0.8900\n",
      "Epoch 86/100\n",
      "1/1 [==============================] - 0s 70ms/step - loss: 2.0424e-05 - accuracy: 1.0000 - val_loss: 0.8103 - val_accuracy: 0.8900\n",
      "Epoch 87/100\n",
      "1/1 [==============================] - 0s 83ms/step - loss: 2.0261e-05 - accuracy: 1.0000 - val_loss: 0.8100 - val_accuracy: 0.8900\n",
      "Epoch 88/100\n",
      "1/1 [==============================] - 0s 100ms/step - loss: 2.0102e-05 - accuracy: 1.0000 - val_loss: 0.8098 - val_accuracy: 0.8900\n",
      "Epoch 89/100\n",
      "1/1 [==============================] - 0s 85ms/step - loss: 1.9946e-05 - accuracy: 1.0000 - val_loss: 0.8096 - val_accuracy: 0.8900\n",
      "Epoch 90/100\n",
      "1/1 [==============================] - 0s 76ms/step - loss: 1.9794e-05 - accuracy: 1.0000 - val_loss: 0.8093 - val_accuracy: 0.8900\n",
      "Epoch 91/100\n",
      "1/1 [==============================] - 0s 101ms/step - loss: 1.9645e-05 - accuracy: 1.0000 - val_loss: 0.8091 - val_accuracy: 0.8900\n",
      "Epoch 92/100\n",
      "1/1 [==============================] - 0s 83ms/step - loss: 1.9499e-05 - accuracy: 1.0000 - val_loss: 0.8088 - val_accuracy: 0.8900\n",
      "Epoch 93/100\n",
      "1/1 [==============================] - 0s 83ms/step - loss: 1.9356e-05 - accuracy: 1.0000 - val_loss: 0.8086 - val_accuracy: 0.8900\n",
      "Epoch 94/100\n",
      "1/1 [==============================] - 0s 83ms/step - loss: 1.9215e-05 - accuracy: 1.0000 - val_loss: 0.8084 - val_accuracy: 0.8900\n",
      "Epoch 95/100\n",
      "1/1 [==============================] - 0s 84ms/step - loss: 1.9078e-05 - accuracy: 1.0000 - val_loss: 0.8082 - val_accuracy: 0.8900\n",
      "Epoch 96/100\n",
      "1/1 [==============================] - 0s 84ms/step - loss: 1.8943e-05 - accuracy: 1.0000 - val_loss: 0.8079 - val_accuracy: 0.8900\n",
      "Epoch 97/100\n",
      "1/1 [==============================] - 0s 83ms/step - loss: 1.8810e-05 - accuracy: 1.0000 - val_loss: 0.8077 - val_accuracy: 0.8900\n",
      "Epoch 98/100\n",
      "1/1 [==============================] - 0s 83ms/step - loss: 1.8680e-05 - accuracy: 1.0000 - val_loss: 0.8075 - val_accuracy: 0.8900\n",
      "Epoch 99/100\n",
      "1/1 [==============================] - 0s 83ms/step - loss: 1.8552e-05 - accuracy: 1.0000 - val_loss: 0.8073 - val_accuracy: 0.8900\n",
      "Epoch 100/100\n",
      "1/1 [==============================] - 0s 83ms/step - loss: 1.8427e-05 - accuracy: 1.0000 - val_loss: 0.8070 - val_accuracy: 0.8900\n"
     ]
    }
   ],
   "source": [
    "# Entraîner le modèle MLP sur les caractéristiques extraites\n",
    "mlp_history = mlp_model.fit(\n",
    "    train_features_flatten,\n",
    "    y_train,\n",
    "    batch_size = 494,\n",
    "    epochs=100,\n",
    "    validation_data=(validation_features_flatten, y_val),\n",
    "    verbose=1\n",
    ")\n",
    "\n"
   ]
  },
  {
   "cell_type": "code",
   "execution_count": 31,
   "id": "0d8d652b-7783-4c49-a994-22fd6dbd8593",
   "metadata": {},
   "outputs": [
    {
     "name": "stdout",
     "output_type": "stream",
     "text": [
      "7/7 [==============================] - 0s 4ms/step - loss: 0.9880 - accuracy: 0.8650\n",
      "Test accuracy: 0.8650000095367432\n"
     ]
    }
   ],
   "source": [
    "# Évaluer le modèle MLP sur les caractéristiques de test\n",
    "test_loss, test_accuracy = mlp_model.evaluate(test_features_flatten, y_test)\n",
    "print(\"Test accuracy:\", test_accuracy)\n"
   ]
  },
  {
   "cell_type": "markdown",
   "id": "b5bd14ea-5f9c-43c9-b6d2-98e9fcd1f7d3",
   "metadata": {},
   "source": [
    "### Visualize training results"
   ]
  },
  {
   "cell_type": "code",
   "execution_count": 32,
   "id": "5402e6e2-c146-4c30-94b9-b9e781cb74d5",
   "metadata": {},
   "outputs": [
    {
     "data": {
      "image/png": "[encoded data removed]",
      "text/plain": [
       "<Figure size 1200x400 with 2 Axes>"
      ]
     },
     "metadata": {},
     "output_type": "display_data"
    }
   ],
   "source": [
    "import matplotlib.pyplot as plt\n",
    "\n",
    "\n",
    "# Tracer les courbes de perte et de précision\n",
    "plt.figure(figsize=(12, 4))\n",
    "\n",
    "# Courbes de perte\n",
    "plt.subplot(1, 2, 1)\n",
    "plt.plot(mlp_history.history['loss'], label='Train Loss')\n",
    "plt.plot(mlp_history.history['val_loss'], label='Validation Loss')\n",
    "plt.xlabel('Epochs')\n",
    "plt.ylabel('Loss')\n",
    "plt.legend()\n",
    "\n",
    "# Courbes de précision\n",
    "plt.subplot(1, 2, 2)\n",
    "plt.plot(mlp_history.history['accuracy'], label='Train Accuracy')\n",
    "plt.plot(mlp_history.history['val_accuracy'], label='Validation Accuracy')\n",
    "plt.xlabel('Epochs')\n",
    "plt.ylabel('Accuracy')\n",
    "plt.legend()\n",
    "\n",
    "plt.show()\n"
   ]
  },
  {
   "cell_type": "markdown",
   "id": "0fd7c1c3-f0ba-43e3-8fab-7e7e7d0c9353",
   "metadata": {},
   "source": [
    "### Évaluez le modèle sur l'ensemble de test"
   ]
  },
  {
   "cell_type": "code",
   "execution_count": 33,
   "id": "f01befc4-e53d-4b29-bece-9810f141eaab",
   "metadata": {},
   "outputs": [
    {
     "name": "stdout",
     "output_type": "stream",
     "text": [
      "16/16 [==============================] - 0s 3ms/step - loss: 1.8303e-05 - accuracy: 1.0000\n",
      "Train accuracy: 1.0\n",
      "7/7 [==============================] - 0s 3ms/step - loss: 0.8070 - accuracy: 0.8900\n",
      "Validation accuracy: 0.8899999856948853\n",
      "7/7 [==============================] - 0s 4ms/step - loss: 0.9880 - accuracy: 0.8650\n",
      "Test accuracy: 0.8650000095367432\n"
     ]
    }
   ],
   "source": [
    "# Évaluer le modèle sur l'ensemble d'entraînement\n",
    "train_loss, train_accuracy = mlp_model.evaluate(train_features_flatten, y_train)\n",
    "print(\"Train accuracy:\", train_accuracy)\n",
    "\n",
    "# Évaluer le modèle sur l'ensemble de validation\n",
    "validation_loss, validation_accuracy = mlp_model.evaluate(validation_features_flatten, y_val)\n",
    "print(\"Validation accuracy:\", validation_accuracy)\n",
    "\n",
    "# Évaluer le modèle sur l'ensemble de test\n",
    "test_loss, test_accuracy = mlp_model.evaluate(test_features_flatten, y_test)\n",
    "print(\"Test accuracy:\", test_accuracy)\n"
   ]
  },
  {
   "cell_type": "code",
   "execution_count": 34,
   "id": "68739666-886a-45f3-8481-1a4b66aa5aa0",
   "metadata": {},
   "outputs": [
    {
     "name": "stdout",
     "output_type": "stream",
     "text": [
      "16/16 [==============================] - 0s 3ms/step\n",
      "7/7 [==============================] - 0s 3ms/step\n",
      "7/7 [==============================] - 0s 3ms/step\n"
     ]
    }
   ],
   "source": [
    "# Obtenir les prédictions sur l'ensemble d'entraînement\n",
    "y_train_pred = mlp_model.predict(train_features_flatten)\n",
    "\n",
    "# Obtenir les prédictions sur l'ensemble de validation\n",
    "y_val_pred = mlp_model.predict(validation_features_flatten)\n",
    "\n",
    "# Obtenir les prédictions sur l'ensemble de test\n",
    "y_test_pred = mlp_model.predict(test_features_flatten)\n"
   ]
  },
  {
   "cell_type": "code",
   "execution_count": 35,
   "id": "f053f488-0241-4117-bcdf-a709c895f29a",
   "metadata": {},
   "outputs": [
    {
     "name": "stdout",
     "output_type": "stream",
     "text": [
      "[0, 0, 0, 0, 1, 1, 0, 1, 1, 1]\n",
      "[1, 1, 1, 0, 1, 1, 1, 1, 0, 0]\n",
      "[0, 0, 0, 0, 1, 1, 0, 0, 0, 0]\n"
     ]
    }
   ],
   "source": [
    "# Conversion des probabilités\n",
    "y_pred_train_prob= [1 if prob > 0.5 else 0 for prob in np.ravel(y_train_pred)]\n",
    "print(y_pred_train_prob[:10])\n",
    "\n",
    "y_pred_test_prob= [1 if prob > 0.5 else 0 for prob in np.ravel(y_test_pred)]\n",
    "print(y_pred_test_prob[:10])\n",
    "\n",
    "y_pred_val_prob= [1 if prob > 0.5 else 0 for prob in np.ravel(y_val_pred)]\n",
    "print(y_pred_val_prob[:10])"
   ]
  },
  {
   "cell_type": "code",
   "execution_count": 36,
   "id": "4359f880-2791-47d7-8281-024d1bdd278b",
   "metadata": {},
   "outputs": [
    {
     "name": "stdout",
     "output_type": "stream",
     "text": [
      "Matrice de confusion jeu d'apprentissage \n",
      "[[247   0]\n",
      " [  0 247]]\n",
      "Matrice de confusion jeu de test\n",
      "[[83 17]\n",
      " [10 90]]\n",
      "Matrice de confusion jeu de test\n",
      "[[83 17]\n",
      " [ 5 95]]\n"
     ]
    }
   ],
   "source": [
    "# Matrice de confusion jeu d'apprentissage\n",
    "print(\"Matrice de confusion jeu d'apprentissage \")\n",
    "print(confusion_matrix(y_train, y_pred_train_prob))\n",
    "\n",
    "# Matrice de confusion jeu de test\n",
    "print(\"Matrice de confusion jeu de test\")\n",
    "print(confusion_matrix(y_test, y_pred_test_prob))\n",
    "\n",
    "# Matrice de confusion jeu de test\n",
    "print(\"Matrice de confusion jeu de test\")\n",
    "print(confusion_matrix(y_val, y_pred_val_prob))"
   ]
  },
  {
   "cell_type": "code",
   "execution_count": 37,
   "id": "47a0ecb6-4323-4192-bfe3-f6e031851755",
   "metadata": {},
   "outputs": [
    {
     "name": "stdout",
     "output_type": "stream",
     "text": [
      "              precision    recall  f1-score   support\n",
      "\n",
      "         0.0       0.89      0.83      0.86       100\n",
      "         1.0       0.84      0.90      0.87       100\n",
      "\n",
      "    accuracy                           0.86       200\n",
      "   macro avg       0.87      0.86      0.86       200\n",
      "weighted avg       0.87      0.86      0.86       200\n",
      "\n"
     ]
    }
   ],
   "source": [
    "print(classification_report(y_test, y_pred_test_prob))\n"
   ]
  },
  {
   "cell_type": "code",
   "execution_count": null,
   "id": "4157e883-284f-4469-b4db-69457ca8fbf7",
   "metadata": {},
   "outputs": [],
   "source": []
  }
 ],
 "metadata": {
  "kernelspec": {
   "display_name": "Python 3 (ipykernel)",
   "language": "python",
   "name": "python3"
  },
  "language_info": {
   "codemirror_mode": {
    "name": "ipython",
    "version": 3
   },
   "file_extension": ".py",
   "mimetype": "text/x-python",
   "name": "python",
   "nbconvert_exporter": "python",
   "pygments_lexer": "ipython3",
   "version": "3.10.9"
  }
 },
 "nbformat": 4,
 "nbformat_minor": 5
}
